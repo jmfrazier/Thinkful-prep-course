{
 "cells": [
  {
   "cell_type": "code",
   "execution_count": 22,
   "metadata": {},
   "outputs": [],
   "source": [
    "import pandas as pd\n",
    "import numpy as np\n",
    "import statistics"
   ]
  },
  {
   "cell_type": "code",
   "execution_count": 29,
   "metadata": {},
   "outputs": [
    {
     "name": "stdout",
     "output_type": "stream",
     "text": [
      "{'mean': 9.8571428571428577, 'median': 10.0, 'mode': 8, 'variance': 7.4761904761904763, 'standard_deviation': 2.7342623276105891, 'standard_error': 1.0334540197243192}\n"
     ]
    }
   ],
   "source": [
    "df = pd.DataFrame()\n",
    "df['age'] = [14, 12, 11, 10, 8, 8, 6]\n",
    "n = len(df['age'])\n",
    "mean = sum(df['age']) / n\n",
    "median = np.median(df['age'])\n",
    "mode = statistics.mode(df['age'])\n",
    "new_data = []\n",
    "for x in df['age']:\n",
    "    new_data.append(((x - mean) ** 2) / (n - 1))\n",
    "variance = sum(new_data)\n",
    "standard_deviation = variance ** .5\n",
    "standard_error = standard_deviation / (n ** .5)\n",
    "stuff = {\n",
    "    \"mean\": mean,\n",
    "    \"median\": median,\n",
    "    \"mode\": mode,\n",
    "    \"variance\": variance,\n",
    "    \"standard_deviation\": standard_deviation,\n",
    "    \"standard_error\": standard_error,\n",
    "}\n",
    "print(stuff)\n",
    "#it doesnt really matter if you choose mean or median because they are roguhly the same. mode too small to choose \n",
    "#i would choose variance std.error because it shows how certain the data measures are"
   ]
  },
  {
   "cell_type": "code",
   "execution_count": 31,
   "metadata": {},
   "outputs": [
    {
     "name": "stdout",
     "output_type": "stream",
     "text": [
      "{'mean': 10.0, 'median': 10.0, 'mode': 8, 'variance': 6.333333333333333, 'standard_deviation': 2.5166114784235831, 'standard_error': 0.95118973121134176}\n"
     ]
    }
   ],
   "source": [
    "df = pd.DataFrame()\n",
    "df['age'] = [14, 12, 11, 10, 8, 8, 7]\n",
    "n = len(df['age'])\n",
    "mean = sum(df['age']) / n\n",
    "median = np.median(df['age'])\n",
    "mode = statistics.mode(df['age'])\n",
    "new_data = []\n",
    "for x in df['age']:\n",
    "    new_data.append(((x - mean) ** 2) / (n - 1))\n",
    "variance = sum(new_data)\n",
    "standard_deviation = variance ** .5\n",
    "standard_error = standard_deviation / (n ** .5)\n",
    "stuff = {\n",
    "    \"mean\": mean,\n",
    "    \"median\": median,\n",
    "    \"mode\": mode,\n",
    "    \"variance\": variance,\n",
    "    \"standard_deviation\": standard_deviation,\n",
    "    \"standard_error\": standard_error,\n",
    "}\n",
    "print(stuff)\n",
    "#mean or median\n",
    "#i would choose variance std.error because it shows how certain the data measures are"
   ]
  },
  {
   "cell_type": "code",
   "execution_count": 32,
   "metadata": {},
   "outputs": [
    {
     "name": "stdout",
     "output_type": "stream",
     "text": [
      "{'mean': 9.0, 'median': 10.0, 'variance': 18.0, 'standard_deviation': 4.2426406871192848, 'standard_error': 1.6035674514745462}\n"
     ]
    }
   ],
   "source": [
    "df = pd.DataFrame()\n",
    "df['age'] = [14, 12, 11, 10, 8, 7, 1]\n",
    "n = len(df['age'])\n",
    "mean = sum(df['age']) / n\n",
    "median = np.median(df['age'])\n",
    "new_data = []\n",
    "for x in df['age']:\n",
    "    new_data.append(((x - mean) ** 2) / (n - 1))\n",
    "variance = sum(new_data)\n",
    "standard_deviation = variance ** .5\n",
    "standard_error = standard_deviation / (n ** .5)\n",
    "stuff = {\n",
    "    \"mean\": mean,\n",
    "    \"median\": median,\n",
    "    \"variance\": variance,\n",
    "    \"standard_deviation\": standard_deviation,\n",
    "    \"standard_error\": standard_error,\n",
    "}\n",
    "print(stuff)\n",
    "#mean or median\n",
    "#I would use variance to show how broad this set now is"
   ]
  },
  {
   "cell_type": "code",
   "execution_count": null,
   "metadata": {},
   "outputs": [],
   "source": []
  }
 ],
 "metadata": {
  "kernelspec": {
   "display_name": "Python 3",
   "language": "python",
   "name": "python3"
  },
  "language_info": {
   "codemirror_mode": {
    "name": "ipython",
    "version": 3
   },
   "file_extension": ".py",
   "mimetype": "text/x-python",
   "name": "python",
   "nbconvert_exporter": "python",
   "pygments_lexer": "ipython3",
   "version": "3.6.3"
  }
 },
 "nbformat": 4,
 "nbformat_minor": 2
}
